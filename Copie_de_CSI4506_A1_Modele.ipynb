{
  "cells": [
    {
      "cell_type": "markdown",
      "metadata": {
        "id": "view-in-github",
        "colab_type": "text"
      },
      "source": [
        "<a href=\"https://colab.research.google.com/github/Berte08/CSI4106/blob/main/Copie_de_CSI4506_A1_Modele.ipynb\" target=\"_parent\"><img src=\"https://colab.research.google.com/assets/colab-badge.svg\" alt=\"Open In Colab\"/></a>"
      ]
    },
    {
      "cell_type": "markdown",
      "source": [
        "**DEVOIR 1 - ÉTUDE EMPIRIQUE DU PROBLÈME DU SAC À DOS**"
      ],
      "metadata": {
        "id": "SPeulvp-meob"
      }
    },
    {
      "cell_type": "markdown",
      "source": [
        "**1. Information sur le groupe et le rapport**\n",
        "\n",
        "Numéro du Groupe: 71\n",
        "Nom des membres du groupe: Berte Tata Saïdatou\n",
        "Numéros d'étudiants des membres du groupe : 300100935"
      ],
      "metadata": {
        "id": "f2Eeke4Z_EkW"
      }
    },
    {
      "cell_type": "markdown",
      "source": [
        "**2. Problème du Sac à dos (Knapsack)**\n",
        "\n",
        "Dans ce devoir, nous allons explorer le problème du sac a dos. Le problème du sac à dos est un problème d'optimisation combinatoire qui consiste a faire le choix d'objets parmi un ensemble donné pour les placer dans un sac à dos de capacité limitée. Chaque objet a un poids et une valeur spécifiques, et l'objectif est de sélectionner une combinaison d'objets qui maximise la valeur totale tout en respectant la contrainte de capacité du sac. Ce fréquenment utilisé dans plusieurs applications, notamment la logistique, la gestion des stocks et la finance. Pour resoudre le problème du sac a dos, on peut utiliser plusiers méthodes d'optimisation telles que l'algorithme glouton, le recuit simulé et l'algorithme génétique pour trouver la solution optimale."
      ],
      "metadata": {
        "id": "Yq6OGiMX_da0"
      }
    },
    {
      "cell_type": "markdown",
      "source": [
        "**3. Ensemble de données**\n",
        "\n",
        " L'ensemble de données utilisé pour résoudre le problème du sac à dos provient de Kaggle et est intitulé \"Knapsack Problem\".Le jeu de données contient plusieurs attributs.\n",
        "\n",
        "**Weights (Poids)** : Cette colonne représente les poids des objets disponibles pour être placés dans le sac à dos.\n",
        "\n",
        "**Prices (Prix)** : Cette colonne représente les valeurs ou prix associés aux objets. Ces valeurs indiquent l'importance ou la valeur des objets à placer dans le sac à dos, et elles sont également données sous forme de tableaux de valeurs entières.\n",
        "\n",
        "**Capacity (Capacité)** : Cette colonne indique la capacité maximale du sac à dos, c'est-à-dire la quantité maximale de poids que le sac peut contenir sans dépasser sa limite.\n",
        "\n",
        "**Best picks (Meilleures sélections)** : Cette colonne représente une solution optimale ou proche de l'optimale pour chaque instance du problème. Elle est donnée sous forme de tableau binaire, où 1 indique que l'objet correspondant doit être sélectionné pour être placé dans le sac, et 0 indique le contraire.\n",
        "\n",
        "**Best price (Meilleur prix)** : Cette colonne indique la valeur totale de la meilleure solution trouvée ou connue pour chaque instance du problème. Il s'agit de la somme des valeurs des objets sélectionnés dans la meilleure solution.\n",
        "\n",
        "\n",
        "\n",
        "\n",
        "\n"
      ],
      "metadata": {
        "id": "C8vwHE0G_iOG"
      }
    },
    {
      "cell_type": "markdown",
      "source": [
        "**Faire l'importation des bibliothèques importantes**"
      ],
      "metadata": {
        "id": "OZTWy1qN2BzY"
      }
    },
    {
      "cell_type": "code",
      "execution_count": null,
      "metadata": {
        "id": "GmP1buROhaOx",
        "colab": {
          "base_uri": "https://localhost:8080/"
        },
        "outputId": "86d28745-af3e-4e1d-d181-43cce92c2854"
      },
      "outputs": [
        {
          "output_type": "stream",
          "name": "stdout",
          "text": [
            "Requirement already satisfied: matplotlib in /usr/local/lib/python3.10/dist-packages (3.7.1)\n",
            "Requirement already satisfied: contourpy>=1.0.1 in /usr/local/lib/python3.10/dist-packages (from matplotlib) (1.1.0)\n",
            "Requirement already satisfied: cycler>=0.10 in /usr/local/lib/python3.10/dist-packages (from matplotlib) (0.11.0)\n",
            "Requirement already satisfied: fonttools>=4.22.0 in /usr/local/lib/python3.10/dist-packages (from matplotlib) (4.42.1)\n",
            "Requirement already satisfied: kiwisolver>=1.0.1 in /usr/local/lib/python3.10/dist-packages (from matplotlib) (1.4.5)\n",
            "Requirement already satisfied: numpy>=1.20 in /usr/local/lib/python3.10/dist-packages (from matplotlib) (1.23.5)\n",
            "Requirement already satisfied: packaging>=20.0 in /usr/local/lib/python3.10/dist-packages (from matplotlib) (23.1)\n",
            "Requirement already satisfied: pillow>=6.2.0 in /usr/local/lib/python3.10/dist-packages (from matplotlib) (9.4.0)\n",
            "Requirement already satisfied: pyparsing>=2.3.1 in /usr/local/lib/python3.10/dist-packages (from matplotlib) (3.1.1)\n",
            "Requirement already satisfied: python-dateutil>=2.7 in /usr/local/lib/python3.10/dist-packages (from matplotlib) (2.8.2)\n",
            "Requirement already satisfied: six>=1.5 in /usr/local/lib/python3.10/dist-packages (from python-dateutil>=2.7->matplotlib) (1.16.0)\n"
          ]
        }
      ],
      "source": [
        "!pip install matplotlib\n",
        "import pandas as pd\n",
        "import itertools\n",
        "import numpy as np\n",
        "import matplotlib.pyplot as plt"
      ]
    },
    {
      "cell_type": "markdown",
      "source": [
        "**Lire l'ensemble de données**\n",
        "\n",
        "Comme indiqué dans la description du projet, les correcteurs devraient pouvoir exécuter votre notebook sans nécessiter de téléchargement.\n",
        "\n",
        "Pour permettre l'accès à l'ensemble de données dans votre notebook, vous pouvez le mettre sur un répertoire GitHub public et fournir un lien vers la version originale de l'ensemble de données.\n",
        "\n",
        "Votre lien vers l'ensemble de données devrait être comme suit:\n",
        "*https://raw.githubusercontent.com/GITHUB_USERNAME/REPOSITORY_NAME/main/DATASETNAME.csv*\n",
        "\n",
        "Par exemple:\n",
        "\n",
        "https://raw.githubusercontent.com/baharin/KnapsackProblem/main/knapsack_5_items.csv\n",
        "\n",
        "Maintenant, dans votre code, mettez le lien vers VOTRE dataset et lisez-le avec pandas:"
      ],
      "metadata": {
        "id": "wNJyoeCz00Kr"
      }
    },
    {
      "cell_type": "code",
      "execution_count": null,
      "metadata": {
        "id": "BrhpM-HwhaOy"
      },
      "outputs": [],
      "source": [
        "url =\"https://raw.githubusercontent.com/Berte08/CSI4106/main/knapsack_5_items.csv\"\n",
        "\n",
        "dataset = pd.read_csv(url)"
      ]
    },
    {
      "cell_type": "markdown",
      "source": [
        "Regardons quelles sont les colonnes du dataset :"
      ],
      "metadata": {
        "id": "4Drc71BY2a7w"
      }
    },
    {
      "cell_type": "code",
      "execution_count": null,
      "metadata": {
        "colab": {
          "base_uri": "https://localhost:8080/"
        },
        "id": "pGxZXmhNhaOz",
        "outputId": "f525e465-32b7-4691-92cb-a8047b686866"
      },
      "outputs": [
        {
          "output_type": "execute_result",
          "data": {
            "text/plain": [
              "Index(['Weights', 'Prices', 'Capacity', 'Best picks', 'Best price'], dtype='object')"
            ]
          },
          "metadata": {},
          "execution_count": 7
        }
      ],
      "source": [
        "dataset.columns"
      ]
    },
    {
      "cell_type": "markdown",
      "source": [
        "Comme nous nous y attendions, nous avons des colonnes pour les poids, les coûts, la capacité, les meilleurs choix et le meilleur prix pour toutes les instances."
      ],
      "metadata": {
        "id": "aNZaqcCT2w-T"
      }
    },
    {
      "cell_type": "markdown",
      "source": [
        "Regardons les 10 premières entrées (rangées):"
      ],
      "metadata": {
        "id": "jkokOHRj2kgZ"
      }
    },
    {
      "cell_type": "code",
      "execution_count": null,
      "metadata": {
        "colab": {
          "base_uri": "https://localhost:8080/",
          "height": 363
        },
        "id": "0xqfPrBEhaOz",
        "outputId": "2560076a-7a99-4ad5-f5e4-1ec52a13b5cd"
      },
      "outputs": [
        {
          "output_type": "execute_result",
          "data": {
            "text/plain": [
              "            Weights            Prices  Capacity        Best picks  Best price\n",
              "0  [46 40 42 38 10]  [12 19 19 15  8]        40  [0. 1. 0. 0. 0.]        19.0\n",
              "1  [11 31  4  6  7]  [ 2  8 18 16  3]        64  [1. 1. 1. 1. 1.]        47.0\n",
              "2  [32 49 27 37 24]  [19 16 16  4  1]        87  [1. 0. 1. 0. 1.]        36.0\n",
              "3  [20 35 22 23 16]  [19 17 19  9  1]        21  [1. 0. 0. 0. 0.]        19.0\n",
              "4  [ 7 12 19 13 20]  [10 11 18 15  5]        50  [0. 1. 1. 1. 0.]        44.0\n",
              "5  [27 10 25 25  7]  [13 19  7 16  3]        66  [1. 1. 0. 1. 0.]        48.0\n",
              "6  [21  2 33 45 26]  [ 1 14 10  6 13]        80  [0. 1. 1. 0. 1.]        37.0\n",
              "7  [37 27 39 14 25]  [18  7 15  4 13]        35  [0. 0. 0. 0. 1.]        13.0\n",
              "8  [ 1 48  4 23 39]  [ 9  4 10 16 12]        51  [1. 0. 1. 1. 0.]        35.0\n",
              "9  [ 4  3 22  9 32]  [14  6  3 17  8]        53  [1. 1. 0. 1. 1.]        45.0"
            ],
            "text/html": [
              "\n",
              "  <div id=\"df-056924d5-ce8e-41e3-a07d-af42f4825ab0\" class=\"colab-df-container\">\n",
              "    <div>\n",
              "<style scoped>\n",
              "    .dataframe tbody tr th:only-of-type {\n",
              "        vertical-align: middle;\n",
              "    }\n",
              "\n",
              "    .dataframe tbody tr th {\n",
              "        vertical-align: top;\n",
              "    }\n",
              "\n",
              "    .dataframe thead th {\n",
              "        text-align: right;\n",
              "    }\n",
              "</style>\n",
              "<table border=\"1\" class=\"dataframe\">\n",
              "  <thead>\n",
              "    <tr style=\"text-align: right;\">\n",
              "      <th></th>\n",
              "      <th>Weights</th>\n",
              "      <th>Prices</th>\n",
              "      <th>Capacity</th>\n",
              "      <th>Best picks</th>\n",
              "      <th>Best price</th>\n",
              "    </tr>\n",
              "  </thead>\n",
              "  <tbody>\n",
              "    <tr>\n",
              "      <th>0</th>\n",
              "      <td>[46 40 42 38 10]</td>\n",
              "      <td>[12 19 19 15  8]</td>\n",
              "      <td>40</td>\n",
              "      <td>[0. 1. 0. 0. 0.]</td>\n",
              "      <td>19.0</td>\n",
              "    </tr>\n",
              "    <tr>\n",
              "      <th>1</th>\n",
              "      <td>[11 31  4  6  7]</td>\n",
              "      <td>[ 2  8 18 16  3]</td>\n",
              "      <td>64</td>\n",
              "      <td>[1. 1. 1. 1. 1.]</td>\n",
              "      <td>47.0</td>\n",
              "    </tr>\n",
              "    <tr>\n",
              "      <th>2</th>\n",
              "      <td>[32 49 27 37 24]</td>\n",
              "      <td>[19 16 16  4  1]</td>\n",
              "      <td>87</td>\n",
              "      <td>[1. 0. 1. 0. 1.]</td>\n",
              "      <td>36.0</td>\n",
              "    </tr>\n",
              "    <tr>\n",
              "      <th>3</th>\n",
              "      <td>[20 35 22 23 16]</td>\n",
              "      <td>[19 17 19  9  1]</td>\n",
              "      <td>21</td>\n",
              "      <td>[1. 0. 0. 0. 0.]</td>\n",
              "      <td>19.0</td>\n",
              "    </tr>\n",
              "    <tr>\n",
              "      <th>4</th>\n",
              "      <td>[ 7 12 19 13 20]</td>\n",
              "      <td>[10 11 18 15  5]</td>\n",
              "      <td>50</td>\n",
              "      <td>[0. 1. 1. 1. 0.]</td>\n",
              "      <td>44.0</td>\n",
              "    </tr>\n",
              "    <tr>\n",
              "      <th>5</th>\n",
              "      <td>[27 10 25 25  7]</td>\n",
              "      <td>[13 19  7 16  3]</td>\n",
              "      <td>66</td>\n",
              "      <td>[1. 1. 0. 1. 0.]</td>\n",
              "      <td>48.0</td>\n",
              "    </tr>\n",
              "    <tr>\n",
              "      <th>6</th>\n",
              "      <td>[21  2 33 45 26]</td>\n",
              "      <td>[ 1 14 10  6 13]</td>\n",
              "      <td>80</td>\n",
              "      <td>[0. 1. 1. 0. 1.]</td>\n",
              "      <td>37.0</td>\n",
              "    </tr>\n",
              "    <tr>\n",
              "      <th>7</th>\n",
              "      <td>[37 27 39 14 25]</td>\n",
              "      <td>[18  7 15  4 13]</td>\n",
              "      <td>35</td>\n",
              "      <td>[0. 0. 0. 0. 1.]</td>\n",
              "      <td>13.0</td>\n",
              "    </tr>\n",
              "    <tr>\n",
              "      <th>8</th>\n",
              "      <td>[ 1 48  4 23 39]</td>\n",
              "      <td>[ 9  4 10 16 12]</td>\n",
              "      <td>51</td>\n",
              "      <td>[1. 0. 1. 1. 0.]</td>\n",
              "      <td>35.0</td>\n",
              "    </tr>\n",
              "    <tr>\n",
              "      <th>9</th>\n",
              "      <td>[ 4  3 22  9 32]</td>\n",
              "      <td>[14  6  3 17  8]</td>\n",
              "      <td>53</td>\n",
              "      <td>[1. 1. 0. 1. 1.]</td>\n",
              "      <td>45.0</td>\n",
              "    </tr>\n",
              "  </tbody>\n",
              "</table>\n",
              "</div>\n",
              "    <div class=\"colab-df-buttons\">\n",
              "\n",
              "  <div class=\"colab-df-container\">\n",
              "    <button class=\"colab-df-convert\" onclick=\"convertToInteractive('df-056924d5-ce8e-41e3-a07d-af42f4825ab0')\"\n",
              "            title=\"Convert this dataframe to an interactive table.\"\n",
              "            style=\"display:none;\">\n",
              "\n",
              "  <svg xmlns=\"http://www.w3.org/2000/svg\" height=\"24px\" viewBox=\"0 -960 960 960\">\n",
              "    <path d=\"M120-120v-720h720v720H120Zm60-500h600v-160H180v160Zm220 220h160v-160H400v160Zm0 220h160v-160H400v160ZM180-400h160v-160H180v160Zm440 0h160v-160H620v160ZM180-180h160v-160H180v160Zm440 0h160v-160H620v160Z\"/>\n",
              "  </svg>\n",
              "    </button>\n",
              "\n",
              "  <style>\n",
              "    .colab-df-container {\n",
              "      display:flex;\n",
              "      gap: 12px;\n",
              "    }\n",
              "\n",
              "    .colab-df-convert {\n",
              "      background-color: #E8F0FE;\n",
              "      border: none;\n",
              "      border-radius: 50%;\n",
              "      cursor: pointer;\n",
              "      display: none;\n",
              "      fill: #1967D2;\n",
              "      height: 32px;\n",
              "      padding: 0 0 0 0;\n",
              "      width: 32px;\n",
              "    }\n",
              "\n",
              "    .colab-df-convert:hover {\n",
              "      background-color: #E2EBFA;\n",
              "      box-shadow: 0px 1px 2px rgba(60, 64, 67, 0.3), 0px 1px 3px 1px rgba(60, 64, 67, 0.15);\n",
              "      fill: #174EA6;\n",
              "    }\n",
              "\n",
              "    .colab-df-buttons div {\n",
              "      margin-bottom: 4px;\n",
              "    }\n",
              "\n",
              "    [theme=dark] .colab-df-convert {\n",
              "      background-color: #3B4455;\n",
              "      fill: #D2E3FC;\n",
              "    }\n",
              "\n",
              "    [theme=dark] .colab-df-convert:hover {\n",
              "      background-color: #434B5C;\n",
              "      box-shadow: 0px 1px 3px 1px rgba(0, 0, 0, 0.15);\n",
              "      filter: drop-shadow(0px 1px 2px rgba(0, 0, 0, 0.3));\n",
              "      fill: #FFFFFF;\n",
              "    }\n",
              "  </style>\n",
              "\n",
              "    <script>\n",
              "      const buttonEl =\n",
              "        document.querySelector('#df-056924d5-ce8e-41e3-a07d-af42f4825ab0 button.colab-df-convert');\n",
              "      buttonEl.style.display =\n",
              "        google.colab.kernel.accessAllowed ? 'block' : 'none';\n",
              "\n",
              "      async function convertToInteractive(key) {\n",
              "        const element = document.querySelector('#df-056924d5-ce8e-41e3-a07d-af42f4825ab0');\n",
              "        const dataTable =\n",
              "          await google.colab.kernel.invokeFunction('convertToInteractive',\n",
              "                                                    [key], {});\n",
              "        if (!dataTable) return;\n",
              "\n",
              "        const docLinkHtml = 'Like what you see? Visit the ' +\n",
              "          '<a target=\"_blank\" href=https://colab.research.google.com/notebooks/data_table.ipynb>data table notebook</a>'\n",
              "          + ' to learn more about interactive tables.';\n",
              "        element.innerHTML = '';\n",
              "        dataTable['output_type'] = 'display_data';\n",
              "        await google.colab.output.renderOutput(dataTable, element);\n",
              "        const docLink = document.createElement('div');\n",
              "        docLink.innerHTML = docLinkHtml;\n",
              "        element.appendChild(docLink);\n",
              "      }\n",
              "    </script>\n",
              "  </div>\n",
              "\n",
              "\n",
              "<div id=\"df-8001bf00-b470-4e26-aac4-9c075a1e0e66\">\n",
              "  <button class=\"colab-df-quickchart\" onclick=\"quickchart('df-8001bf00-b470-4e26-aac4-9c075a1e0e66')\"\n",
              "            title=\"Suggest charts.\"\n",
              "            style=\"display:none;\">\n",
              "\n",
              "<svg xmlns=\"http://www.w3.org/2000/svg\" height=\"24px\"viewBox=\"0 0 24 24\"\n",
              "     width=\"24px\">\n",
              "    <g>\n",
              "        <path d=\"M19 3H5c-1.1 0-2 .9-2 2v14c0 1.1.9 2 2 2h14c1.1 0 2-.9 2-2V5c0-1.1-.9-2-2-2zM9 17H7v-7h2v7zm4 0h-2V7h2v10zm4 0h-2v-4h2v4z\"/>\n",
              "    </g>\n",
              "</svg>\n",
              "  </button>\n",
              "\n",
              "<style>\n",
              "  .colab-df-quickchart {\n",
              "      --bg-color: #E8F0FE;\n",
              "      --fill-color: #1967D2;\n",
              "      --hover-bg-color: #E2EBFA;\n",
              "      --hover-fill-color: #174EA6;\n",
              "      --disabled-fill-color: #AAA;\n",
              "      --disabled-bg-color: #DDD;\n",
              "  }\n",
              "\n",
              "  [theme=dark] .colab-df-quickchart {\n",
              "      --bg-color: #3B4455;\n",
              "      --fill-color: #D2E3FC;\n",
              "      --hover-bg-color: #434B5C;\n",
              "      --hover-fill-color: #FFFFFF;\n",
              "      --disabled-bg-color: #3B4455;\n",
              "      --disabled-fill-color: #666;\n",
              "  }\n",
              "\n",
              "  .colab-df-quickchart {\n",
              "    background-color: var(--bg-color);\n",
              "    border: none;\n",
              "    border-radius: 50%;\n",
              "    cursor: pointer;\n",
              "    display: none;\n",
              "    fill: var(--fill-color);\n",
              "    height: 32px;\n",
              "    padding: 0;\n",
              "    width: 32px;\n",
              "  }\n",
              "\n",
              "  .colab-df-quickchart:hover {\n",
              "    background-color: var(--hover-bg-color);\n",
              "    box-shadow: 0 1px 2px rgba(60, 64, 67, 0.3), 0 1px 3px 1px rgba(60, 64, 67, 0.15);\n",
              "    fill: var(--button-hover-fill-color);\n",
              "  }\n",
              "\n",
              "  .colab-df-quickchart-complete:disabled,\n",
              "  .colab-df-quickchart-complete:disabled:hover {\n",
              "    background-color: var(--disabled-bg-color);\n",
              "    fill: var(--disabled-fill-color);\n",
              "    box-shadow: none;\n",
              "  }\n",
              "\n",
              "  .colab-df-spinner {\n",
              "    border: 2px solid var(--fill-color);\n",
              "    border-color: transparent;\n",
              "    border-bottom-color: var(--fill-color);\n",
              "    animation:\n",
              "      spin 1s steps(1) infinite;\n",
              "  }\n",
              "\n",
              "  @keyframes spin {\n",
              "    0% {\n",
              "      border-color: transparent;\n",
              "      border-bottom-color: var(--fill-color);\n",
              "      border-left-color: var(--fill-color);\n",
              "    }\n",
              "    20% {\n",
              "      border-color: transparent;\n",
              "      border-left-color: var(--fill-color);\n",
              "      border-top-color: var(--fill-color);\n",
              "    }\n",
              "    30% {\n",
              "      border-color: transparent;\n",
              "      border-left-color: var(--fill-color);\n",
              "      border-top-color: var(--fill-color);\n",
              "      border-right-color: var(--fill-color);\n",
              "    }\n",
              "    40% {\n",
              "      border-color: transparent;\n",
              "      border-right-color: var(--fill-color);\n",
              "      border-top-color: var(--fill-color);\n",
              "    }\n",
              "    60% {\n",
              "      border-color: transparent;\n",
              "      border-right-color: var(--fill-color);\n",
              "    }\n",
              "    80% {\n",
              "      border-color: transparent;\n",
              "      border-right-color: var(--fill-color);\n",
              "      border-bottom-color: var(--fill-color);\n",
              "    }\n",
              "    90% {\n",
              "      border-color: transparent;\n",
              "      border-bottom-color: var(--fill-color);\n",
              "    }\n",
              "  }\n",
              "</style>\n",
              "\n",
              "  <script>\n",
              "    async function quickchart(key) {\n",
              "      const quickchartButtonEl =\n",
              "        document.querySelector('#' + key + ' button');\n",
              "      quickchartButtonEl.disabled = true;  // To prevent multiple clicks.\n",
              "      quickchartButtonEl.classList.add('colab-df-spinner');\n",
              "      try {\n",
              "        const charts = await google.colab.kernel.invokeFunction(\n",
              "            'suggestCharts', [key], {});\n",
              "      } catch (error) {\n",
              "        console.error('Error during call to suggestCharts:', error);\n",
              "      }\n",
              "      quickchartButtonEl.classList.remove('colab-df-spinner');\n",
              "      quickchartButtonEl.classList.add('colab-df-quickchart-complete');\n",
              "    }\n",
              "    (() => {\n",
              "      let quickchartButtonEl =\n",
              "        document.querySelector('#df-8001bf00-b470-4e26-aac4-9c075a1e0e66 button');\n",
              "      quickchartButtonEl.style.display =\n",
              "        google.colab.kernel.accessAllowed ? 'block' : 'none';\n",
              "    })();\n",
              "  </script>\n",
              "</div>\n",
              "    </div>\n",
              "  </div>\n"
            ]
          },
          "metadata": {},
          "execution_count": 8
        }
      ],
      "source": [
        "dataset.head(10)"
      ]
    },
    {
      "cell_type": "markdown",
      "source": [
        "**Étape de pré-traitenemtn**\n",
        "\n",
        "Règle générale, la première étape de tout projet impliquant la lecture et la manipulation de données est le prétraitement et le nettoyage des données.\n",
        "\n",
        "Dans notre ensemble de données, nous nous attendons à ce que les entrées des colonnes « Weights », « Prices » et « Best Picks » se présentent sous la forme de tableaux de nombres réels ou d'entiers, comme ceci : [45, 40, 42, 38, 10]\n",
        "\n",
        "Cependant, lorsque vous lisez les entrées à l'aide de pandas, elles se présentent sous la forme de chaînes (String): \"[45 40 42 38 10]\"\n",
        "\n",
        "Nous devons donc convertir ces chaînes en « tableaux de réels ou d’entiers ». Vous pouvez utiliser la fonction fournie ci-dessous à cet effet :\n"
      ],
      "metadata": {
        "id": "1dq9VpZh2r2A"
      }
    },
    {
      "cell_type": "code",
      "execution_count": null,
      "metadata": {
        "id": "BmUtgrBchaOz"
      },
      "outputs": [],
      "source": [
        "def string_to_list(string):\n",
        "\n",
        "  string_list = string.strip('[]').split()\n",
        "\n",
        "  float_list = [float(element) for element in string_list]\n",
        "\n",
        "  return float_list"
      ]
    },
    {
      "cell_type": "markdown",
      "source": [
        "De plus, il est possible que certaines lignes de l'ensemble de données contiennent des valeurs vides dans des colonnes spécifiques. Nous voulons également éliminer ces lignes car elles ne fournissent aucune information utile. Nous utilisons la fonction dropna() pour ce faire :"
      ],
      "metadata": {
        "id": "CP1nkMb27A4n"
      }
    },
    {
      "cell_type": "code",
      "execution_count": null,
      "metadata": {
        "id": "LT_iYgxhhaO0"
      },
      "outputs": [],
      "source": [
        "#Ignore the warning messages.\n",
        "\n",
        "dataset = dataset.dropna()\n",
        "\n",
        "dataset.Weights = dataset.Weights.apply(lambda x : string_to_list(x))\n",
        "dataset.Prices = dataset.Prices.apply(lambda x : string_to_list(x))\n",
        "dataset['Best picks'] = dataset['Best picks'].apply(lambda x : string_to_list(x))"
      ]
    },
    {
      "cell_type": "markdown",
      "source": [
        "\n",
        "Il est maintenant temps de mettre en œuvre les algorithmes de recherche. Pour chaque algorithme, un modèle vous est fourni. Vous pouvez modifier ce modèle si vous voulez, mais regardez d'abord tous les paramètres utilisés car ils sont tous importants. Vous pouvez également définir autant de fonctions auxiliaires que vous le souhaitez."
      ],
      "metadata": {
        "id": "61go4NeA7gZU"
      }
    },
    {
      "cell_type": "markdown",
      "source": [
        "**4. Generate and Test**\n",
        "\n",
        "Donnez une description...  Aussi, assurez-vous de mettre des commentaires en utilisant vos propres mots dans le code pour montrer que vous comprenez le code que vous soumettez."
      ],
      "metadata": {
        "id": "0ER3-7di7ufy"
      }
    },
    {
      "cell_type": "code",
      "execution_count": null,
      "metadata": {
        "id": "FqN5dVe7haO0"
      },
      "outputs": [],
      "source": [
        "def gen_and_test(data):\n",
        "\n",
        "\n",
        "  return best_solution_price, best_solution\n",
        "\n"
      ]
    },
    {
      "cell_type": "code",
      "execution_count": null,
      "metadata": {
        "id": "xQyI_WRShaO0",
        "colab": {
          "base_uri": "https://localhost:8080/",
          "height": 331
        },
        "outputId": "ae5627fd-0f92-4c18-cee0-dc5bdc5c0802"
      },
      "outputs": [
        {
          "output_type": "error",
          "ename": "NameError",
          "evalue": "ignored",
          "traceback": [
            "\u001b[0;31m---------------------------------------------------------------------------\u001b[0m",
            "\u001b[0;31mNameError\u001b[0m                                 Traceback (most recent call last)",
            "\u001b[0;32m<ipython-input-12-f1071219265b>\u001b[0m in \u001b[0;36m<cell line: 2>\u001b[0;34m()\u001b[0m\n\u001b[1;32m      2\u001b[0m \u001b[0;32mfor\u001b[0m \u001b[0m_\u001b[0m\u001b[0;34m,\u001b[0m \u001b[0mrow\u001b[0m \u001b[0;32min\u001b[0m \u001b[0mdataset\u001b[0m\u001b[0;34m.\u001b[0m\u001b[0miterrows\u001b[0m\u001b[0;34m(\u001b[0m\u001b[0;34m)\u001b[0m\u001b[0;34m:\u001b[0m\u001b[0;34m\u001b[0m\u001b[0;34m\u001b[0m\u001b[0m\n\u001b[1;32m      3\u001b[0m     \u001b[0mtarget\u001b[0m \u001b[0;34m=\u001b[0m \u001b[0mrow\u001b[0m\u001b[0;34m[\u001b[0m\u001b[0;34m'Best price'\u001b[0m\u001b[0;34m]\u001b[0m\u001b[0;34m\u001b[0m\u001b[0;34m\u001b[0m\u001b[0m\n\u001b[0;32m----> 4\u001b[0;31m     \u001b[0msolution\u001b[0m\u001b[0;34m,\u001b[0m \u001b[0mindexes\u001b[0m \u001b[0;34m=\u001b[0m \u001b[0mgen_and_test\u001b[0m\u001b[0;34m(\u001b[0m\u001b[0mrow\u001b[0m\u001b[0;34m)\u001b[0m\u001b[0;34m\u001b[0m\u001b[0;34m\u001b[0m\u001b[0m\n\u001b[0m\u001b[1;32m      5\u001b[0m     \u001b[0msolutions\u001b[0m\u001b[0;34m.\u001b[0m\u001b[0mappend\u001b[0m\u001b[0;34m(\u001b[0m\u001b[0;36m1\u001b[0m \u001b[0;32mif\u001b[0m \u001b[0mtarget\u001b[0m \u001b[0;34m==\u001b[0m \u001b[0msolution\u001b[0m \u001b[0;32melse\u001b[0m \u001b[0;36m0\u001b[0m\u001b[0;34m)\u001b[0m\u001b[0;34m\u001b[0m\u001b[0;34m\u001b[0m\u001b[0m\n",
            "\u001b[0;32m<ipython-input-11-216bea21e552>\u001b[0m in \u001b[0;36mgen_and_test\u001b[0;34m(data)\u001b[0m\n\u001b[1;32m      2\u001b[0m \u001b[0;34m\u001b[0m\u001b[0m\n\u001b[1;32m      3\u001b[0m \u001b[0;34m\u001b[0m\u001b[0m\n\u001b[0;32m----> 4\u001b[0;31m   \u001b[0;32mreturn\u001b[0m \u001b[0mbest_solution_price\u001b[0m\u001b[0;34m,\u001b[0m \u001b[0mbest_solution\u001b[0m\u001b[0;34m\u001b[0m\u001b[0;34m\u001b[0m\u001b[0m\n\u001b[0m\u001b[1;32m      5\u001b[0m \u001b[0;34m\u001b[0m\u001b[0m\n",
            "\u001b[0;31mNameError\u001b[0m: name 'best_solution_price' is not defined"
          ]
        }
      ],
      "source": [
        "# solutions = []\n",
        "# for _, row in dataset.iterrows():\n",
        "#     target = row['Best price']\n",
        "#     solution, indexes = gen_and_test(row)\n",
        "#     solutions.append(1 if target == solution else 0)\n"
      ]
    },
    {
      "cell_type": "code",
      "execution_count": null,
      "metadata": {
        "id": "yodeAYV3haO0"
      },
      "outputs": [],
      "source": [
        "# # Accuracy\n",
        "# print('Accuracy of best prices found is', np.mean(solutions))"
      ]
    },
    {
      "cell_type": "markdown",
      "source": [
        "**Votre analyse:**"
      ],
      "metadata": {
        "id": "sgYGIJMd-atd"
      }
    },
    {
      "cell_type": "markdown",
      "source": [
        "------------------------------------------------------------------------------------------------"
      ],
      "metadata": {
        "id": "5rQYdUQx-dGi"
      }
    },
    {
      "cell_type": "markdown",
      "metadata": {
        "id": "z8_ipXOGhaO1"
      },
      "source": [
        "**5. Recherche gloutonne (greedy search)**\n",
        "\n",
        "L'algorithme glouton est une approche gloutonne qui consiste à trier les objets en fonction de leur rapport valeur/poids, v/w, puis à les ajouter dans le sac en respectant la capacité maximale. Il faut toujours privilégier l'objet le plus \"rentable\" à chaque étape. Dans cette approche on prend la décision la plus avantageuse sans se soucier de l'impact que cela pourrait avoir sur les étapes ultérieures"
      ]
    },
    {
      "cell_type": "code",
      "execution_count": null,
      "metadata": {
        "id": "bAfwGLDkhaO2"
      },
      "outputs": [],
      "source": [
        "def greedy(data):\n",
        "  # La recherche Gloutonne permet de choisir le plus haut coût d'abord\n",
        "\n",
        " # Commencons par extraire les valeurs poids prix et capacity du dataset\n",
        "    poids = data['Weights']\n",
        "    prix = data['Prices']\n",
        "    capacity = data['Capacity']\n",
        "# soit n la longeur complete des poids de notre dataset\n",
        "    n = len(poids)\n",
        "    best_solution = [0] * n\n",
        "    best_solution_price = 0.0\n",
        "\n",
        "    # Triez les objets par rapport à leur rapport valeur/poids (prix/poids).\n",
        "    rapport_poids_prix = [p / w for p, w in zip(prix, poids)]\n",
        "    sorted_items = sorted(range(n), key=lambda i: rapport_poids_prix[i], reverse=True)\n",
        "\n",
        "   #Definir la capacité du sac a 0 lorsqu'on commence les itération\n",
        "    current_capacity = 0\n",
        "\n",
        "    for i in sorted_items:\n",
        "        if poids[i] <= capacity - current_capacity:\n",
        "            best_solution[i] = 1\n",
        "            best_solution_price += prix[i]\n",
        "            current_capacity += poids[i]\n",
        "        else:\n",
        "            best_solution[i] = 0\n",
        "\n",
        "    return best_solution_price, best_solution\n"
      ]
    },
    {
      "cell_type": "code",
      "source": [
        "solutions_greedy = []\n",
        "for _, row in dataset.iterrows():\n",
        "    target = row['Best price']\n",
        "    solution, indexes = greedy(row)\n",
        "    solutions_greedy.append(1 if target == solution else 0)\n"
      ],
      "metadata": {
        "id": "QeS54aqAhwhU"
      },
      "execution_count": null,
      "outputs": []
    },
    {
      "cell_type": "code",
      "source": [
        "print(\"Greedy Accuracy is\", np.mean(solutions_greedy))"
      ],
      "metadata": {
        "id": "xWqCDMs-h0SX",
        "colab": {
          "base_uri": "https://localhost:8080/"
        },
        "outputId": "e1917882-a3fa-4e6b-b8af-d3eab909c2cc"
      },
      "execution_count": null,
      "outputs": [
        {
          "output_type": "stream",
          "name": "stdout",
          "text": [
            "Greedy Accuracy is 0.8341937443061038\n"
          ]
        }
      ]
    },
    {
      "cell_type": "code",
      "source": [
        "recall = sum(solutions_greedy) / len(solutions_greedy)\n",
        "print(\"Greedy Recall is : {:.2f}\".format(recall))"
      ],
      "metadata": {
        "colab": {
          "base_uri": "https://localhost:8080/"
        },
        "id": "SBH08M8arOIF",
        "outputId": "dc7165a3-70f6-4cb4-c272-5c3932214524"
      },
      "execution_count": null,
      "outputs": [
        {
          "output_type": "stream",
          "name": "stdout",
          "text": [
            "Greedy Recall is : 0.83\n"
          ]
        }
      ]
    },
    {
      "cell_type": "markdown",
      "source": [
        "**Votre analyse:**\n",
        "\n",
        "On obtient une précision de 0.8341937443061038 ce qui est relativement élever pour un algorithme glouton appliqué au problème du sac à dos indique que l'algorithme a trouvé une solution qui est évaluée à 83,42%. La précision est généralement mesurée en comparant la valeur de la solution trouvée par l'algorithme à la meilleure solution connue dans la colonne \"Best price\" de l'ensemble de donnée.\n",
        "\n",
        "Un rappel de 0.83 montre que l'algorithme glouton a réussi à capturer environ 83 % des solutions optimales parmi toutes les solutions possibles testées. Cela indique que l'algorithme gloutonne est relativement performante vis a vis du probleme du sac a dos.\n",
        "\n",
        "\n",
        "\n",
        "\n",
        "\n"
      ],
      "metadata": {
        "id": "0DKep6e5-nuz"
      }
    },
    {
      "cell_type": "markdown",
      "source": [
        "------------------------------------------------------------------------------------------------"
      ],
      "metadata": {
        "id": "XGBWQqlK-lra"
      }
    },
    {
      "cell_type": "markdown",
      "source": [
        "**6. Recuit Simulé ( Simulated Annealing )**\n",
        "\n",
        "L'algorithme du recuit simulé est une méthode de recherche heuristique dans la quelle l'algorithme se base sur les solution voisine. Le but est de permettre des mouvements vers des solutions voisines, même si elles sont moins bonnes, avec une probabilité décroissante au fil du temps.\n",
        "\n",
        "\n",
        "Dans le Recuit Simulé, nous commençons par initialiser une solution aléatoire pour le sac à dos. Ensuite, nous itérons N fois où N équivaut a la longeur de notre dataset. On génère ainsi une solution voisine en inversant aléatoirement un bit de la solution actuelle. Si la solution voisine est meilleure que la solution actuelle ou si elle est acceptée avec une certaine probabilité (basée sur la différence de fitness et la température actuelle), alors elle devient la nouvelle solution actuelle. Nous réduisons progressivement la température en multipliant par un facteur de refroidissement à chaque itération. Finalement, nous renvoyons la meilleure solution trouvée.\n"
      ],
      "metadata": {
        "id": "PtDW2ja3R93S"
      }
    },
    {
      "cell_type": "code",
      "source": [
        "import random\n",
        "import math\n",
        "\n",
        "def calculate_fitness(ind, prices, weights, capacity):\n",
        "    total_value = sum(ind[i] * prices[i] for i in range(len(ind)))\n",
        "    total_weight = sum(ind[i] * weights[i] for i in range(len(ind)))\n",
        "    if total_weight > capacity:\n",
        "        return 0  # La solution est invalide si elle dépasse la capacité du sac à dos\n",
        "    return total_value\n",
        "\n",
        "def simulated_annealing(data, N, initial_temperature, cooling_rate):\n",
        "  #  commençons par initialiser une solution aléatoire pour le sac à dos.\n",
        "  # Commencons par extraire les valeurs poids prix et capacity du dataset\n",
        "    weights= data[\"Weights\"]\n",
        "    prices= data[\"Prices\"]\n",
        "    capacity= data[\"Capacity\"]\n",
        "\n",
        "    n= len(weights)\n",
        "\n",
        "    # Initialisation  solution initiale aléatoire\n",
        "    current_solution= [random.randint(0, 1) for _ in range(n)]\n",
        "    current_solution_price = calculate_fitness(current_solution, prices, weights, capacity)\n",
        "\n",
        "    # Initialisation des variables  de la meilleure solution connue<\n",
        "    # Etant au debut, on sait que best_solution=current_solution\n",
        "    best_solution= current_solution\n",
        "    best_solution_price= current_solution_price\n",
        "\n",
        "    # boucle principale dans la quelle on génère une solution voisine en inversant  un bit de la solution actuelle.\n",
        "    for iteration in range(N):\n",
        "        # sélection d'une solution voisine\n",
        "        solution_voisine= list(current_solution)\n",
        "        random_index = random.randint(0, n - 1)\n",
        "        solution_voisine[random_index] = 1 - solution_voisine[random_index]  # changement  du bit\n",
        "\n",
        "        # calcul de la fitness de la solution voisine\n",
        "        solution_voisine_prix= calculate_fitness(solution_voisine, prices, weights, capacity)\n",
        "\n",
        "        # calcul de la différence de fitness entre la solution actuelle et la voisine\n",
        "        delta = solution_voisine_prix-current_solution_price\n",
        "\n",
        "        # verifier si la solution voisine est meilleure\n",
        "        if delta > 0 or random.random() < math.exp(delta / initial_temperature):\n",
        "            current_solution=solution_voisine\n",
        "            current_solution_price= solution_voisine_prix\n",
        "\n",
        "        # Mettre à jour la meilleure solution connue si nécessaire\n",
        "        if current_solution_price > best_solution_price:\n",
        "            best_solution = current_solution\n",
        "            best_solution_price = current_solution_price\n",
        "\n",
        "        # diminution de la temperature\n",
        "        initial_temperature *= cooling_rate\n",
        "\n",
        "\n",
        "\n",
        "\n",
        "        return best_solution_price, best_solution\n"
      ],
      "metadata": {
        "id": "7rFhuXedSF_3"
      },
      "execution_count": null,
      "outputs": []
    },
    {
      "cell_type": "code",
      "source": [
        "solutions_sa = []\n",
        "cooling_rates = [0.9, 0.8, 0.7]\n",
        "for _, row in dataset.iterrows():\n",
        "    target = row['Best price']\n",
        "    solution, indexes = simulated_annealing(row, N = 15, initial_temperature=1, cooling_rate=0.7)\n",
        "    solutions_sa.append(1 if target == solution else 0)\n"
      ],
      "metadata": {
        "id": "mAWQLNsESNIZ"
      },
      "execution_count": null,
      "outputs": []
    },
    {
      "cell_type": "code",
      "source": [
        "print(\"Simulated Annealing Accuracy is\", np.mean(solutions_sa))"
      ],
      "metadata": {
        "id": "jUdWEABkhkih",
        "colab": {
          "base_uri": "https://localhost:8080/"
        },
        "outputId": "057f359e-6119-4a6e-ebc2-ced680951e7e"
      },
      "execution_count": null,
      "outputs": [
        {
          "output_type": "stream",
          "name": "stdout",
          "text": [
            "Simulated Annealing Accuracy is 0.009616357930964672\n"
          ]
        }
      ]
    },
    {
      "cell_type": "code",
      "source": [
        "# Calcul du rappel\n",
        "solution_optimale = sum(solutions_sa)  # Somme des 1 dans la liste\n",
        "total_optimal_solutions = len(solutions_sa)  # Le nombre total de solutions testées\n",
        "recall = solution_optimale / total_optimal_solutions\n",
        "print(\"Simulated Annealing Recall is: {:.2f}\".format(recall))\n",
        "\n",
        "\n",
        "\n"
      ],
      "metadata": {
        "colab": {
          "base_uri": "https://localhost:8080/"
        },
        "id": "LDqdf1s8mjo_",
        "outputId": "c1b00f95-3124-48e0-b19f-75f6e948d87a"
      },
      "execution_count": null,
      "outputs": [
        {
          "output_type": "stream",
          "name": "stdout",
          "text": [
            "Simulated Annealing Recall is: 0.01\n"
          ]
        }
      ]
    },
    {
      "cell_type": "markdown",
      "source": [
        "**Votre analyse:**\n",
        "\n",
        "Nous avons tester et ajuster les parametres comme ci dessous:\n",
        "\n",
        "| N | Cooling_rate | Accuracy  |Rappel|\n",
        "|-------|-----|-------------|---------|\n",
        "| 10 | 0.95  | 0.0096   |0.01|\n",
        "| 10   | 0.8  | 0.0100    |0.01|\n",
        "| 10 | 0.7  | 0.0089  |0.01|\n",
        "| 15 | 0.8  | 0.010  |0.01|\n",
        "| 15 | 0.7  | 0.009 |0.01|\n",
        "\n",
        "\n",
        " Les valeurs de la précision ou **accuracy** sont très faibles (environ 0.01), ce qui signifie que l'algorithme de recuit simulé a du mal à trouver des solutions optimales. La précision est le pourcentage de solutions optimales trouvées par rapport au nombre total de solutions testées.\n",
        "\n",
        " Le rappel est également très faible (environ 0.01), ce qui signifie que l'algorithme n'a pu détecter qu'une très petite fraction des solutions optimales parmi toutes les solutions possibles.\n",
        "\n",
        "Ces metrics signifient que l'algorithme n'a pas réussi à trouver une solution optimale. En comparant la valeur de la solution trouvée par l'algorithme de recuit simulé à la meilleure solution connue c'est à dire la colonne Best Price.\n",
        "\n",
        "Cette précision est du a plusieurs facteurs:\n",
        "- L'algorithme du recuit simulé commence par une solution initiale aléatoire. Si cette solution de départ est très éloignée de la solution optimale, l'algorithme peut avoir du mal à trouver une solution optimale\n",
        "\n",
        "\n",
        "\n"
      ],
      "metadata": {
        "id": "PvvpYOOr-qqr"
      }
    },
    {
      "cell_type": "markdown",
      "source": [
        "------------------------------------------------------------------------------------------------"
      ],
      "metadata": {
        "id": "n0QXt7Ys-rCc"
      }
    },
    {
      "cell_type": "markdown",
      "source": [
        "**7. Algorithme génétique**\n",
        "\n",
        "L'algorithme génétique est un algorithme basée sur la biologie de l'évolution. Dans le problème du Sac a dos on veut maximiser la valeur totale des objets à mettre dans un sac à dos tout en respectant une contrainte de capacité. On commence par initialiser une population de solutions que l'on représentées par des vecteurs binaires( 0 => non appartenance; 1=> appartenance). Le fitness mesure la valeur totale des objets dans le sac tout en respectant la capacité du sac. Ensuite on passe à l'etape de la reproduction, favorisant ceux avec une meilleure aptitude. Les opérations de croisement et de mutation sont passés aux parents sélectionnés pour créer une nouvelle génération d'individus. Ce processus se répète sur plusieurs générations, favorisant ainsi l'amélioration de la qualité des solutions."
      ],
      "metadata": {
        "id": "RHYjBUvVhtGV"
      }
    },
    {
      "cell_type": "code",
      "source": [
        "import random\n",
        "\n",
        "def calculate_fitness(ind, prices, weights, capacity):\n",
        "  # faire la somme total des poids et des prix\n",
        "   total_value = sum(ind[i] * prices[i] for i in range(len(ind)))\n",
        "   fitness = sum(ind[i] * weights[i] for i in range(len(ind)))\n",
        "   if fitness > capacity:\n",
        "        return 0  # La solution est invalide si elle dépasse la capacité du sac à dos\n",
        "   return fitness\n",
        "\n",
        "def crossover(parent1, parent2, cross_rate):\n",
        "\n",
        "   if random.random() < cross_rate:\n",
        "        point = random.randint(1, len(parent1) - 1)\n",
        "        child1 = parent1[:point] + parent2[point:]\n",
        "        child2 = parent2[:point] + parent1[point:]\n",
        "        return child1, child2\n",
        "\n",
        "   else:\n",
        "        return parent1, parent2\n",
        "\n",
        "\n",
        "def mutation(child, mut_rate):\n",
        "   mutated_child = list(child)\n",
        "   for i in range(len(mutated_child)):\n",
        "        if random.random() < mut_rate:\n",
        "            mutated_child[i] = 1 - mutated_child[i]  # Inversion de 0 à 1 ou de 1 à 0\n",
        "\n",
        "   return child\n",
        "\n",
        "def genetic_algorithm(data, population_size, num_generations, mut_rate, cross_rate, tournament_size):\n",
        "    weights = data[\"Weights\"]\n",
        "    prices = data[\"Prices\"]\n",
        "    capacity = data[\"Capacity\"]\n",
        "\n",
        "    n = len(weights)\n",
        "\n",
        "    # Initialisation de la population\n",
        "    population = [random.choices([0, 1], k=n) for _ in range(population_size)]\n",
        "\n",
        "    best_solution = None\n",
        "    best_solution_price = 0.0\n",
        "\n",
        "    for generation in range(num_generations):\n",
        "        # Évaluation de la fitness de chaque individu\n",
        "        fitness_scores = [calculate_fitness(ind, prices, weights, capacity) for ind in population]\n",
        "\n",
        "        # Sélection des parents par tournoi\n",
        "        parents = []\n",
        "        for _ in range(population_size):\n",
        "            tournament = random.sample(range(population_size), tournament_size)\n",
        "            selected_parent_index = max(tournament, key=lambda i: fitness_scores[i])\n",
        "            parents.append(population[selected_parent_index])\n",
        "\n",
        "        # Création de la prochaine génération par croisement et mutation\n",
        "        new_population = []\n",
        "        for i in range(0, population_size, 2):\n",
        "            parent1 = parents[i]\n",
        "            parent2 = parents[i + 1]\n",
        "            child1, child2 = crossover(parent1, parent2, cross_rate)\n",
        "            child1 = mutation(child1, mut_rate)\n",
        "            child2 = mutation(child2, mut_rate)\n",
        "            new_population.extend([child1, child2])\n",
        "\n",
        "        population = new_population\n",
        "\n",
        "        # Trouver la meilleure solution de cette génération\n",
        "        generation_best = max(population, key=lambda ind: calculate_fitness(ind, prices, weights, capacity))\n",
        "        generation_best_price = calculate_fitness(generation_best, prices, weights, capacity)\n",
        "\n",
        "        # Mettre à jour la meilleure solution globale\n",
        "        if generation_best_price > best_solution_price:\n",
        "            best_solution = generation_best\n",
        "            best_solution_price = generation_best_price\n",
        "\n",
        "\n",
        "    return best_solution_price, best_solution"
      ],
      "metadata": {
        "id": "5kGKKUN8iP30"
      },
      "execution_count": null,
      "outputs": []
    },
    {
      "cell_type": "code",
      "source": [
        "solutions_ga = []\n",
        "for _, row in dataset.iterrows():\n",
        "    target = row['Best price']\n",
        "    solution, indexes = genetic_algorithm(row, population_size = 50, num_generations = 50, mut_rate = 0.05, cross_rate = 0.6, tournament_size = 5)\n",
        "    solutions_ga.append(1 if target == solution else 0)\n"
      ],
      "metadata": {
        "id": "5b4hBtUijZzg"
      },
      "execution_count": null,
      "outputs": []
    },
    {
      "cell_type": "code",
      "source": [
        "print(\"Genetic Algorithm Accuracy is\", np.mean(solutions_ga))"
      ],
      "metadata": {
        "id": "hJ3ceIHSs-W-",
        "colab": {
          "base_uri": "https://localhost:8080/"
        },
        "outputId": "165aa67a-26cd-4fd7-8ad2-40a727192651"
      },
      "execution_count": null,
      "outputs": [
        {
          "output_type": "stream",
          "name": "stdout",
          "text": [
            "Genetic Algorithm Accuracy is 0.013058001822046765\n"
          ]
        }
      ]
    },
    {
      "cell_type": "code",
      "source": [
        "recall = sum(solutions_ga) / len(solutions_ga)\n",
        "print(\"Genetic Algorithm Recall is: {:.2f}\".format(recall))"
      ],
      "metadata": {
        "colab": {
          "base_uri": "https://localhost:8080/"
        },
        "id": "TH2k2_PgsmD9",
        "outputId": "0f9a665d-3c64-4f61-ce16-5cc2e8e6cb09"
      },
      "execution_count": null,
      "outputs": [
        {
          "output_type": "stream",
          "name": "stdout",
          "text": [
            "Genetic Algorithm Recall is: 0.01\n"
          ]
        }
      ]
    },
    {
      "cell_type": "markdown",
      "source": [
        "**Votre analyse:**\n",
        "\n",
        "Les résultats pour l'algorithme génétique avec différentes valeurs de taux de mutation (Mut_rate) et de taux de croisement (Cross_rate) sont les suivants :\n",
        "\n",
        "| Mut_rate | Cross_rate | Accuracy  |Rappel|\n",
        "|-------|-----|-------------|---------|\n",
        "| 0.05   | 0.6 | 0.0100    |0.01|\n",
        "| 0.1   | 0.7  | 0.013   |0.01|\n",
        "| 0.5 | 0.9  |  0.014   |0.01|\n",
        "\n",
        "\n",
        "Les résultats montrent que, même en ajustant les paramètres de l'algorithme génétique, les performances restent relativement faibles en termes de précision et de rappel. Les précisions sont très faibles, ce qui signifie que l'algorithme génétique a du mal à trouver des solutions de haute qualité.\n",
        "\n",
        "Le fait que le rappel reste à 1.00% dans tous les cas indique que l'algorithme génétique ne parvient pas à identifier la majorité des solutions optimales, ce qui est un problème majeur.\n",
        "Il peut être préférable d'explorer d'autres approches d'optimisation."
      ],
      "metadata": {
        "id": "5yn8KLah-xGF"
      }
    },
    {
      "cell_type": "markdown",
      "source": [
        "------------------------------------------------------------------------------------------------"
      ],
      "metadata": {
        "id": "ekb0LOgF-xUN"
      }
    },
    {
      "cell_type": "markdown",
      "source": [
        "**8. Étude comparative**\n"
      ],
      "metadata": {
        "id": "NdO_H-4t-6mg"
      }
    },
    {
      "cell_type": "code",
      "source": [
        "\n",
        "algorithmes = [\"Glouton\", \"Recuit simulé\", \"Algorithme génétique\"]\n",
        "#valeur des rappel\n",
        "rappel = [0.83, 0.01, 0.01]\n",
        "# Création du graphique à barres\n",
        "plt.figure(figsize=(10, 6))\n",
        "plt.bar(algorithmes, rappel, color=['blue', 'green', 'red'])\n",
        "plt.xlabel(\"Algorithmes\")\n",
        "plt.ylabel(\"Rappel\")\n",
        "plt.title(\"Comparaison des performances des algorithmes\")\n",
        "plt.ylim(0, 1)\n",
        "plt.show()\n"
      ],
      "metadata": {
        "colab": {
          "base_uri": "https://localhost:8080/",
          "height": 565
        },
        "id": "h6AeyWUb5a3D",
        "outputId": "9f348896-cf0b-45aa-fce4-83d2337f172d"
      },
      "execution_count": null,
      "outputs": [
        {
          "output_type": "display_data",
          "data": {
            "text/plain": [
              "<Figure size 1000x600 with 1 Axes>"
            ],
            "image/png": "[encoded data removed]"
          },
          "metadata": {}
        }
      ]
    },
    {
      "cell_type": "code",
      "source": [
        "\n",
        "\n",
        "algorithmes = [\"Glouton\", \"Recuit simulé\", \"Algorithme génétique\"]\n",
        "accuracies = [0.834, 0.009, 0.130]\n",
        "\n",
        "# Création du graphique en barres\n",
        "plt.figure(figsize=(10, 6))\n",
        "plt.bar(algorithmes, accuracies, color=['blue', 'green', 'red'])\n",
        "plt.xlabel(\"Algorithmes\")\n",
        "plt.ylabel(\"Précision\")\n",
        "plt.title(\"Comparaison des précisions des algorithmes\")\n",
        "plt.ylim(0, 1)\n",
        "plt.show()\n",
        "\n"
      ],
      "metadata": {
        "colab": {
          "base_uri": "https://localhost:8080/",
          "height": 565
        },
        "id": "dRlFnzPJ7PF2",
        "outputId": "9f0cf7e6-42e4-4963-811a-dcb8b19633ca"
      },
      "execution_count": null,
      "outputs": [
        {
          "output_type": "display_data",
          "data": {
            "text/plain": [
              "<Figure size 1000x600 with 1 Axes>"
            ],
            "image/png": "[encoded data removed]"
          },
          "metadata": {}
        }
      ]
    },
    {
      "cell_type": "markdown",
      "source": [
        "Les résultats des précisions et des rappels pour les trois algorithmes (Glouton, Recuit simulé, Algorithme génétique) sont les suivants :\n",
        "\n",
        "> Bloc en retrait\n",
        "\n",
        "\n",
        "\n",
        "| Algorithme/Metrics | Accuracy  |Rappel|\n",
        "|-------|-----|-------------|\n",
        "| Glouton   | 83.4%| 83%    |\n",
        "| Recuit simulé | 0.9%  | 1%  |\n",
        "| Génétique | 13%  |  1%  |\n",
        "\n",
        "\n",
        "Pour l'algorithme Glouton, on observe la précision et le rappel les plus élevés, ce qui indique que cet algorithme a réussi à trouver des solutions optimales ou proches de l'optimale dans une grande proportion des cas. Cela suggère que l'algorithme glouton est particulièrement efficace pour résoudre le problème du sac à dos avec cet ensemble de données.\n",
        "\n",
        "En revanche, l'algorithme Recuit simulé affiche des précisions et des rappels très bas, ce qui suggère qu'il a du mal à trouver des solutions de haute qualité. Le recuit simulé est généralement sensible aux paramètres, et il se peut que les paramètres utilisés dans cette exécution ne soient pas optimaux.\n",
        "\n",
        "L'algorithme Algorithme génétique montre également des résultats médiocres en termes de précision et de rappel. Malgré les ajustements de paramètres effectués pour améliorer ses performances nous avans toujours des resultats très bas.\n",
        "\n",
        "\n",
        "\n",
        "\n",
        "\n",
        "\n",
        "\n"
      ],
      "metadata": {
        "id": "BskaJGoz98y-"
      }
    },
    {
      "cell_type": "markdown",
      "source": [
        "--------------------------------------------------------------------------\n"
      ],
      "metadata": {
        "id": "4Ypp7TpkAIUe"
      }
    },
    {
      "cell_type": "markdown",
      "source": [
        "**9. Conclusion**\n",
        "En conclusion, l'algorithme glouton semble être le meilleur choix parmi les trois pour résoudre le problème du sac à dos avec cet ensemble de données particulier. Cependant, il est important de noter que les performances des algorithmes peuvent varier en fonction des paramètres et des caractéristiques spécifiques de l'ensemble de données, et il peut être nécessaire d'explorer davantage d'options pour obtenir de meilleures performances.\n",
        "\n",
        "Pour améliorer les performances des algorithmes du  recuit simulé et l'algorithme génétique nous pouvons ajuster les Paramètres tels que la température initiale, le taux de refroidissement, et le nombre d'itérations. Expérimentez avec différentes valeurs de ces paramètres nous permetra de  trouver une combinaison qui fonctionne bien avec le dataSet."
      ],
      "metadata": {
        "id": "8Ikmq-si_23Y"
      }
    },
    {
      "cell_type": "markdown",
      "source": [
        "--------------------------------------------------------------------------\n"
      ],
      "metadata": {
        "id": "41s8gvCNABDy"
      }
    },
    {
      "cell_type": "markdown",
      "source": [
        "**10. Références**\n",
        "\n",
        "* https://openclassrooms.com/fr/courses/7771531-decouvrez-les-librairies-python-pour-la-data-science/7858285-tracez-des-graphiques-avec-matplotlib\n",
        "* https://chat.openai.com\n",
        "* https://www.kaggle.com/datasets/warcoder/knapsack-problem/data\n",
        "* https://www.youtube.com/watch?v=RLYoEyIHL6A\n",
        "* https://www.youtube.com/watch?v=9PQV_yERZBU"
      ],
      "metadata": {
        "id": "PtbOgI1q_9a0"
      }
    },
    {
      "cell_type": "markdown",
      "source": [
        "**Hint:**\n",
        "\n",
        "Pour partager un lien vers votre notebook Colab, cliquez sur \"share\" en haut à droite. Ensuite, sous *General access* , remplacez *Restricted* par « Anyone with the link »."
      ],
      "metadata": {
        "id": "zF9cuDJqF75q"
      }
    }
  ],
  "metadata": {
    "kernelspec": {
      "display_name": "Python 3",
      "language": "python",
      "name": "python3"
    },
    "language_info": {
      "codemirror_mode": {
        "name": "ipython",
        "version": 3
      },
      "file_extension": ".py",
      "mimetype": "text/x-python",
      "name": "python",
      "nbconvert_exporter": "python",
      "pygments_lexer": "ipython3",
      "version": "3.9.10"
    },
    "orig_nbformat": 4,
    "colab": {
      "provenance": [],
      "include_colab_link": true
    }
  },
  "nbformat": 4,
  "nbformat_minor": 0
}